{
 "cells": [
  {
   "cell_type": "markdown",
   "metadata": {},
   "source": [
    "参考：[隠れマルコフモデルをざっくり理解したい](https://qiita.com/s-kojima1227/items/36e2468570c9bc62a481)"
   ]
  },
  {
   "cell_type": "code",
   "execution_count": 1,
   "metadata": {},
   "outputs": [],
   "source": [
    "import numpy as np\n",
    "import numpy.linalg as LA\n",
    "from scipy.stats import multivariate_normal\n",
    "import matplotlib.pyplot as plt"
   ]
  },
  {
   "cell_type": "code",
   "execution_count": 8,
   "metadata": {},
   "outputs": [],
   "source": [
    "# モデルの自由度\n",
    "K = 2\n",
    "D = 6\n",
    "# 遷移確率\n",
    "A_transition = np.array([\n",
    "    [0.9, 0.1],\n",
    "    [0.1, 0.9]\n",
    "])\n",
    "# 潜在変数で条件づけられた観測変数の出力確率\n",
    "B_emission = np.array([\n",
    "    [1./6.]*6,\n",
    "    [0.1, 0.1, 0.1, 0.1, 0.1, 0.5]\n",
    "])\n",
    "# 混合係数\n",
    "pi = np.array(\n",
    "    [1., 0.]\n",
    ")\n",
    "\n",
    "# 繰り返し上限\n",
    "T = 100\n",
    "\n",
    "# 観測データ列\n",
    "x = np.array([\n",
    "    4, 4, 5, 4, 2, 3, 3, 6, 4, 5, 5, 3, 4, 4, 1, 4, 5, 3, 6, 5\n",
    "])"
   ]
  },
  {
   "cell_type": "code",
   "execution_count": 3,
   "metadata": {},
   "outputs": [],
   "source": [
    "def forward(x, A_transition, B_emission, pi):\n",
    "    N = x.shape[0]\n",
    "    # K = A_transition.shape[0]\n",
    "    # D = B_emission.shape[1]\n",
    "    alpha = np.zeros((N, K))\n",
    "\n",
    "    alpha[0, :] = pi * B_emission[:, x[0]]\n",
    "\n",
    "    for n in range(1, N):\n",
    "        for k in range(K):\n",
    "            alpha[n, k] = B_emission[k, x[n]] * (alpha[n-1, :] @ A_transition[:, k])\n",
    "\n",
    "    return alpha"
   ]
  },
  {
   "cell_type": "code",
   "execution_count": 4,
   "metadata": {},
   "outputs": [],
   "source": [
    "def backward(x, A_transition, B_emission, pi):\n",
    "    N = x.shape[0]\n",
    "    # K = A_transition.shape[0]\n",
    "    # D = B_emission.shape[1]\n",
    "    beta = np.zeros((N, K))\n",
    "\n",
    "    beta[N-1] = np.ones((K))\n",
    "\n",
    "    for n in reversed(range(0, N-1)):\n",
    "        for k in range(K):\n",
    "            beta[n, k] = beta[n+1, :] * B_emission[:, x[n]] @ A_transition[k, :]\n",
    "\n",
    "    return beta"
   ]
  },
  {
   "cell_type": "code",
   "execution_count": 6,
   "metadata": {},
   "outputs": [],
   "source": [
    "def E_step(x, A_transition, B_emission, pi):\n",
    "    N = x.shape[0]\n",
    "    # K = A_transition.shape[0]\n",
    "    # D = B_emission.shape[1]\n",
    "    alpha = forward(x, A_transition, B_emission, pi)\n",
    "    beta = backward(x, A_transition, B_emission, pi)\n",
    "    prob_X = np.sum(alpha[N-1, :])\n",
    "\n",
    "    gamma = np.zeros((N, K))\n",
    "    xi = np.zeros((N-1, K, K))\n",
    "\n",
    "    for n in range(N):\n",
    "        gamma[n, :] = alpha[n, :] * beta[n, :] / prob_X\n",
    "        if n == N-1:\n",
    "            break\n",
    "        for i in range(K):\n",
    "            for j in range(K):\n",
    "                xi[n, i, j] = alpha[n, i] * A_transition[i, j] * B_emission[j, x[n+1]] * beta[n+1, j]\n",
    "        xi[n, :, :] /= prob_X\n",
    "\n",
    "    return gamma, xi"
   ]
  },
  {
   "cell_type": "code",
   "execution_count": 7,
   "metadata": {},
   "outputs": [],
   "source": [
    "def M_step(x, gamma, xi):\n",
    "    N = x.shape[0]\n",
    "    A_new = np.zeros((K, K))\n",
    "    B_new = np.zeros((K, D))\n",
    "    pi_new = gamma[0, :]\n",
    "\n",
    "    for i in range(K):\n",
    "        for j in range(K):\n",
    "            A_new[i, j] = np.sum(xi[0:N-1, i, j])\n",
    "        A_new[i, :] /= np.sum(gamma[0:N-1, i])\n",
    "\n",
    "        for d in range(D):\n",
    "            for n in range(N):\n",
    "                B_new[i, d] += (x[n] == d) * gamma[n, i]\n",
    "        B_new[i, :] /= np.sum(gamma[:, i])\n",
    "\n",
    "    return A_new, B_new, pi_new"
   ]
  },
  {
   "cell_type": "code",
   "execution_count": 9,
   "metadata": {},
   "outputs": [],
   "source": [
    "def EM(x, A_transition, B_emission, pi):\n",
    "    N = x.shape[0]\n",
    "    for t in range(T):\n",
    "        gamma, xi = E_step(x, A_transition, B_emission, pi)\n",
    "        A_new, B_new, pi_new = M_step(x, gamma, xi)\n",
    "\n",
    "        A_transition = A_new\n",
    "        B_emission = B_new\n",
    "        pi = pi_new\n",
    "\n",
    "    return A_transition, B_emission, pi"
   ]
  },
  {
   "cell_type": "code",
   "execution_count": null,
   "metadata": {},
   "outputs": [],
   "source": [
    "def viterbi(x, A_transition, B_emission, pi):\n",
    "    N = x.shape[0]\n",
    "\n",
    "    "
   ]
  },
  {
   "cell_type": "code",
   "execution_count": null,
   "metadata": {},
   "outputs": [],
   "source": []
  }
 ],
 "metadata": {
  "kernelspec": {
   "display_name": "ml",
   "language": "python",
   "name": "ml"
  },
  "language_info": {
   "codemirror_mode": {
    "name": "ipython",
    "version": 3
   },
   "file_extension": ".py",
   "mimetype": "text/x-python",
   "name": "python",
   "nbconvert_exporter": "python",
   "pygments_lexer": "ipython3",
   "version": "3.12.2"
  }
 },
 "nbformat": 4,
 "nbformat_minor": 2
}
