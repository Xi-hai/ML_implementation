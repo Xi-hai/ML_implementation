{
 "cells": [
  {
   "cell_type": "markdown",
   "metadata": {},
   "source": [
    "参考：[隠れマルコフモデルをざっくり理解したい](https://qiita.com/s-kojima1227/items/36e2468570c9bc62a481)"
   ]
  },
  {
   "cell_type": "code",
   "execution_count": 1,
   "metadata": {},
   "outputs": [],
   "source": [
    "import numpy as np\n",
    "import numpy.linalg as LA\n",
    "from scipy.stats import multivariate_normal\n",
    "import matplotlib.pyplot as plt"
   ]
  },
  {
   "cell_type": "code",
   "execution_count": 9,
   "metadata": {},
   "outputs": [],
   "source": [
    "# モデルの自由度\n",
    "K = 2\n",
    "D = 6\n",
    "# 遷移確率\n",
    "A_transition = np.array([\n",
    "    [0.9, 0.1],\n",
    "    [0.1, 0.9]\n",
    "])\n",
    "# 潜在変数で条件づけられた観測変数の出力確率\n",
    "B_emission = np.array([\n",
    "    [1./6.]*6,\n",
    "    [0.1, 0.1, 0.1, 0.1, 0.1, 0.5]\n",
    "])\n",
    "# 混合係数\n",
    "pi = np.array(\n",
    "    [1., 0.]\n",
    ")\n",
    "\n",
    "# 繰り返し上限\n",
    "T = 10\n",
    "\n",
    "# 観測データ列\n",
    "x = np.array([\n",
    "    4, 4, 5, 4, 2, 3, 3, 6, 4, 5, 5, 3, 4, 4, 1, 4, 5, 3, 6, 5,\n",
    "    3, 3, 3, 5, 5, 3, 5, 6, 5, 5, 1, 3, 4, 3, 1, 2, 6, 1, 6, 1,\n",
    "    5, 4, 2, 4, 1, 5, 4, 1, 1, 1, 1, 5, 6, 6, 6, 6, 1, 6, 2, 6,\n",
    "    2, 6, 1, 6, 6, 6, 6, 6, 3, 2, 6, 6, 6, 1, 6, 6, 2, 6, 6, 5,\n",
    "    6, 6, 5, 6, 6, 6, 6, 4, 3, 6, 6, 5, 2, 5, 4, 5, 6, 5, 4, 4\n",
    "])\n",
    "for i in range(x.shape[0]):\n",
    "    x[i] -= 1"
   ]
  },
  {
   "cell_type": "code",
   "execution_count": 3,
   "metadata": {},
   "outputs": [],
   "source": [
    "def forward(x, A_transition, B_emission, pi):\n",
    "    N = x.shape[0]\n",
    "    # K = A_transition.shape[0]\n",
    "    # D = B_emission.shape[1]\n",
    "    alpha = np.zeros((N, K))\n",
    "\n",
    "    alpha[0, :] = pi * B_emission[:, x[0]]\n",
    "\n",
    "    for n in range(1, N):\n",
    "        for k in range(K):\n",
    "            alpha[n, k] = B_emission[k, x[n]] * (alpha[n-1, :] @ A_transition[:, k])\n",
    "\n",
    "    # print(alpha[N-1, :])\n",
    "    return alpha"
   ]
  },
  {
   "cell_type": "code",
   "execution_count": 22,
   "metadata": {},
   "outputs": [],
   "source": [
    "def backward(x, A_transition, B_emission, pi):\n",
    "    N = x.shape[0]\n",
    "    # K = A_transition.shape[0]\n",
    "    # D = B_emission.shape[1]\n",
    "    beta = np.zeros((N, K))\n",
    "\n",
    "    beta[N-1] = np.ones((K))\n",
    "\n",
    "    for n in reversed(range(0, N-1)):\n",
    "        for k in range(K):\n",
    "            beta[n, k] = np.sum(beta[n+1, :] @ B_emission[:, x[n]] @ A_transition[k, :])\n",
    "\n",
    "    return beta"
   ]
  },
  {
   "cell_type": "code",
   "execution_count": 5,
   "metadata": {},
   "outputs": [],
   "source": [
    "def E_step(x, A_transition, B_emission, pi):\n",
    "    N = x.shape[0]\n",
    "    # K = A_transition.shape[0]\n",
    "    # D = B_emission.shape[1]\n",
    "    alpha = forward(x, A_transition, B_emission, pi)\n",
    "    beta = backward(x, A_transition, B_emission, pi)\n",
    "    prob_X = np.sum(alpha[N-1, :])\n",
    "\n",
    "    gamma = np.zeros((N, K))\n",
    "    xi = np.zeros((N-1, K, K))\n",
    "\n",
    "    for n in range(N):\n",
    "        gamma[n, :] = alpha[n, :] * beta[n, :] / prob_X\n",
    "        if n == N-1:\n",
    "            break\n",
    "        for i in range(K):\n",
    "            for j in range(K):\n",
    "                xi[n, i, j] = alpha[n, i] * A_transition[i, j] * B_emission[j, x[n+1]] * beta[n+1, j]\n",
    "        xi[n, :, :] /= prob_X\n",
    "\n",
    "    return alpha[:, 1], beta[:, 1], gamma, xi"
   ]
  },
  {
   "cell_type": "code",
   "execution_count": 6,
   "metadata": {},
   "outputs": [],
   "source": [
    "def M_step(x, gamma, xi):\n",
    "    N = x.shape[0]\n",
    "    A_new = np.zeros((K, K))\n",
    "    B_new = np.zeros((K, D))\n",
    "    pi_new = gamma[0, :]\n",
    "\n",
    "    for i in range(K):\n",
    "        for j in range(K):\n",
    "            A_new[i, j] = np.sum(xi[0:N-1, i, j])\n",
    "        A_new[i, :] /= np.sum(gamma[0:N-1, i])\n",
    "\n",
    "        for d in range(D):\n",
    "            for n in range(N):\n",
    "                B_new[i, d] += (x[n] == d) * gamma[n, i]\n",
    "        B_new[i, :] /= np.sum(gamma[:, i])\n",
    "\n",
    "    return A_new, B_new, pi_new"
   ]
  },
  {
   "cell_type": "code",
   "execution_count": 7,
   "metadata": {},
   "outputs": [],
   "source": [
    "def EM(x, A_transition, B_emission, pi):\n",
    "    N = x.shape[0]\n",
    "    for t in range(T):\n",
    "        alpha, beta, gamma, xi = E_step(x, A_transition, B_emission, pi)\n",
    "        # if t%5==0:\n",
    "        #     print(gamma[N-1, :])\n",
    "        A_new, B_new, pi_new = M_step(x, gamma, xi)\n",
    "\n",
    "        A_transition = A_new\n",
    "        B_emission = B_new\n",
    "        pi = pi_new\n",
    "\n",
    "    return A_transition, B_emission, pi, alpha, beta, gamma[:, 1]"
   ]
  },
  {
   "cell_type": "code",
   "execution_count": 23,
   "metadata": {},
   "outputs": [
    {
     "ename": "ValueError",
     "evalue": "matmul: Input operand 0 does not have enough dimensions (has 0, gufunc core with signature (n?,k),(k,m?)->(n?,m?) requires 1)",
     "output_type": "error",
     "traceback": [
      "\u001b[0;31m---------------------------------------------------------------------------\u001b[0m",
      "\u001b[0;31mValueError\u001b[0m                                Traceback (most recent call last)",
      "Cell \u001b[0;32mIn[23], line 1\u001b[0m\n\u001b[0;32m----> 1\u001b[0m A_est, B_est, pi_est, alpha, beta, gamma \u001b[38;5;241m=\u001b[39m \u001b[43mEM\u001b[49m\u001b[43m(\u001b[49m\u001b[43mx\u001b[49m\u001b[43m,\u001b[49m\u001b[43m \u001b[49m\u001b[43mA_transition\u001b[49m\u001b[43m,\u001b[49m\u001b[43m \u001b[49m\u001b[43mB_emission\u001b[49m\u001b[43m,\u001b[49m\u001b[43m \u001b[49m\u001b[43mpi\u001b[49m\u001b[43m)\u001b[49m\n\u001b[1;32m      2\u001b[0m \u001b[38;5;28mprint\u001b[39m(\u001b[38;5;124mf\u001b[39m\u001b[38;5;124m\"\u001b[39m\u001b[38;5;124mA : p(z_n|z_n-1)\u001b[39m\u001b[38;5;130;01m\\n\u001b[39;00m\u001b[38;5;132;01m{\u001b[39;00mA_est\u001b[38;5;132;01m}\u001b[39;00m\u001b[38;5;124m\"\u001b[39m)\n\u001b[1;32m      3\u001b[0m \u001b[38;5;28mprint\u001b[39m(\u001b[38;5;124mf\u001b[39m\u001b[38;5;124m\"\u001b[39m\u001b[38;5;124mB : p(x_n|z_n)\u001b[39m\u001b[38;5;130;01m\\n\u001b[39;00m\u001b[38;5;132;01m{\u001b[39;00mB_est\u001b[38;5;132;01m}\u001b[39;00m\u001b[38;5;124m\"\u001b[39m)\n",
      "Cell \u001b[0;32mIn[7], line 4\u001b[0m, in \u001b[0;36mEM\u001b[0;34m(x, A_transition, B_emission, pi)\u001b[0m\n\u001b[1;32m      2\u001b[0m N \u001b[38;5;241m=\u001b[39m x\u001b[38;5;241m.\u001b[39mshape[\u001b[38;5;241m0\u001b[39m]\n\u001b[1;32m      3\u001b[0m \u001b[38;5;28;01mfor\u001b[39;00m t \u001b[38;5;129;01min\u001b[39;00m \u001b[38;5;28mrange\u001b[39m(T):\n\u001b[0;32m----> 4\u001b[0m     alpha, beta, gamma, xi \u001b[38;5;241m=\u001b[39m \u001b[43mE_step\u001b[49m\u001b[43m(\u001b[49m\u001b[43mx\u001b[49m\u001b[43m,\u001b[49m\u001b[43m \u001b[49m\u001b[43mA_transition\u001b[49m\u001b[43m,\u001b[49m\u001b[43m \u001b[49m\u001b[43mB_emission\u001b[49m\u001b[43m,\u001b[49m\u001b[43m \u001b[49m\u001b[43mpi\u001b[49m\u001b[43m)\u001b[49m\n\u001b[1;32m      5\u001b[0m     \u001b[38;5;66;03m# if t%5==0:\u001b[39;00m\n\u001b[1;32m      6\u001b[0m     \u001b[38;5;66;03m#     print(gamma[N-1, :])\u001b[39;00m\n\u001b[1;32m      7\u001b[0m     A_new, B_new, pi_new \u001b[38;5;241m=\u001b[39m M_step(x, gamma, xi)\n",
      "Cell \u001b[0;32mIn[5], line 6\u001b[0m, in \u001b[0;36mE_step\u001b[0;34m(x, A_transition, B_emission, pi)\u001b[0m\n\u001b[1;32m      3\u001b[0m \u001b[38;5;66;03m# K = A_transition.shape[0]\u001b[39;00m\n\u001b[1;32m      4\u001b[0m \u001b[38;5;66;03m# D = B_emission.shape[1]\u001b[39;00m\n\u001b[1;32m      5\u001b[0m alpha \u001b[38;5;241m=\u001b[39m forward(x, A_transition, B_emission, pi)\n\u001b[0;32m----> 6\u001b[0m beta \u001b[38;5;241m=\u001b[39m \u001b[43mbackward\u001b[49m\u001b[43m(\u001b[49m\u001b[43mx\u001b[49m\u001b[43m,\u001b[49m\u001b[43m \u001b[49m\u001b[43mA_transition\u001b[49m\u001b[43m,\u001b[49m\u001b[43m \u001b[49m\u001b[43mB_emission\u001b[49m\u001b[43m,\u001b[49m\u001b[43m \u001b[49m\u001b[43mpi\u001b[49m\u001b[43m)\u001b[49m\n\u001b[1;32m      7\u001b[0m prob_X \u001b[38;5;241m=\u001b[39m np\u001b[38;5;241m.\u001b[39msum(alpha[N\u001b[38;5;241m-\u001b[39m\u001b[38;5;241m1\u001b[39m, :])\n\u001b[1;32m      9\u001b[0m gamma \u001b[38;5;241m=\u001b[39m np\u001b[38;5;241m.\u001b[39mzeros((N, K))\n",
      "Cell \u001b[0;32mIn[22], line 11\u001b[0m, in \u001b[0;36mbackward\u001b[0;34m(x, A_transition, B_emission, pi)\u001b[0m\n\u001b[1;32m      9\u001b[0m \u001b[38;5;28;01mfor\u001b[39;00m n \u001b[38;5;129;01min\u001b[39;00m \u001b[38;5;28mreversed\u001b[39m(\u001b[38;5;28mrange\u001b[39m(\u001b[38;5;241m0\u001b[39m, N\u001b[38;5;241m-\u001b[39m\u001b[38;5;241m1\u001b[39m)):\n\u001b[1;32m     10\u001b[0m     \u001b[38;5;28;01mfor\u001b[39;00m k \u001b[38;5;129;01min\u001b[39;00m \u001b[38;5;28mrange\u001b[39m(K):\n\u001b[0;32m---> 11\u001b[0m         beta[n, k] \u001b[38;5;241m=\u001b[39m np\u001b[38;5;241m.\u001b[39msum(\u001b[43mbeta\u001b[49m\u001b[43m[\u001b[49m\u001b[43mn\u001b[49m\u001b[38;5;241;43m+\u001b[39;49m\u001b[38;5;241;43m1\u001b[39;49m\u001b[43m,\u001b[49m\u001b[43m \u001b[49m\u001b[43m:\u001b[49m\u001b[43m]\u001b[49m\u001b[43m \u001b[49m\u001b[38;5;241;43m@\u001b[39;49m\u001b[43m \u001b[49m\u001b[43mB_emission\u001b[49m\u001b[43m[\u001b[49m\u001b[43m:\u001b[49m\u001b[43m,\u001b[49m\u001b[43m \u001b[49m\u001b[43mx\u001b[49m\u001b[43m[\u001b[49m\u001b[43mn\u001b[49m\u001b[43m]\u001b[49m\u001b[43m]\u001b[49m\u001b[43m \u001b[49m\u001b[38;5;241;43m@\u001b[39;49m\u001b[43m \u001b[49m\u001b[43mA_transition\u001b[49m\u001b[43m[\u001b[49m\u001b[43mk\u001b[49m\u001b[43m,\u001b[49m\u001b[43m \u001b[49m\u001b[43m:\u001b[49m\u001b[43m]\u001b[49m)\n\u001b[1;32m     13\u001b[0m \u001b[38;5;28;01mreturn\u001b[39;00m beta\n",
      "\u001b[0;31mValueError\u001b[0m: matmul: Input operand 0 does not have enough dimensions (has 0, gufunc core with signature (n?,k),(k,m?)->(n?,m?) requires 1)"
     ]
    }
   ],
   "source": [
    "A_est, B_est, pi_est, alpha, beta, gamma = EM(x, A_transition, B_emission, pi)\n",
    "print(f\"A : p(z_n|z_n-1)\\n{A_est}\")\n",
    "print(f\"B : p(x_n|z_n)\\n{B_est}\")\n",
    "print(f\"pi\\n{pi_est}\")"
   ]
  },
  {
   "cell_type": "code",
   "execution_count": 17,
   "metadata": {},
   "outputs": [
    {
     "data": {
      "image/png": "[encoded data removed]",
      "text/plain": [
       "<Figure size 640x480 with 1 Axes>"
      ]
     },
     "metadata": {},
     "output_type": "display_data"
    }
   ],
   "source": [
    "ax = plt.subplot(111)\n",
    "n = range(x.shape[0])\n",
    "ax.plot(n, alpha, label=\"alpha\")\n",
    "ax.plot(n, beta, label=\"beta\")\n",
    "# ax.plot(n, gamma, label=\"gamma\")\n",
    "ax.legend()\n",
    "ax.grid()"
   ]
  },
  {
   "cell_type": "code",
   "execution_count": 20,
   "metadata": {},
   "outputs": [],
   "source": [
    "# def forward(observations,\n",
    "#             transition_matrix,\n",
    "#             emission_matrix,\n",
    "#             initial_distribution):\n",
    "#     n_timesteps = observations.shape[0]\n",
    "#     n_states = transition_matrix.shape[0]\n",
    "#     forward_prob = np.zeros((n_timesteps, n_states))\n",
    "    \n",
    "#     forward_prob[0, :] = initial_distribution * emission_matrix[:, observations[0]]\n",
    "    \n",
    "#     for t in range(1, n_timesteps):\n",
    "#         for j in range(n_states):\n",
    "#             forward_prob[t, j] = (\n",
    "#                 forward_prob[t-1]\n",
    "#                 @ transition_matrix[:, j]\n",
    "#                 * emission_matrix[j, observations[t]]\n",
    "#             )\n",
    "            \n",
    "#     return forward_prob\n",
    "\n",
    "# def backward(observations,\n",
    "#              transition_matrix,\n",
    "#              emission_matrix):\n",
    "#     n_timesteps = observations.shape[0]\n",
    "#     n_states = transition_matrix.shape[0]\n",
    "#     backward_prob = np.zeros((n_timesteps, n_states))\n",
    "    \n",
    "#     backward_prob[n_timesteps-1] = np.ones((n_states))\n",
    "    \n",
    "#     for t in reversed(range(0, n_timesteps-1)):\n",
    "#         for j in range(n_states):\n",
    "#             backward_prob[t, j] = (\n",
    "#                 (backward_prob[t+1]\n",
    "#                  * emission_matrix[:, observations[t+1]]\n",
    "#                 ) @ transition_matrix[j, :]\n",
    "#             )\n",
    "            \n",
    "#     return backward_prob\n",
    "\n",
    "# def baum_welch(observations,\n",
    "#                transition_matrix,\n",
    "#                emission_matrix,\n",
    "#                initial_distribution,\n",
    "#                n_iter=100):\n",
    "#     n_timesteps = observations.shape[0]\n",
    "#     n_states = transition_matrix.shape[0]\n",
    "    \n",
    "#     for n in range(n_iter):\n",
    "#         # E-step\n",
    "#         forward_prob = forward(\n",
    "#             observations,\n",
    "#             transition_matrix,\n",
    "#             emission_matrix,\n",
    "#             initial_distribution\n",
    "#         )\n",
    "#         backward_prob = backward(\n",
    "#             observations,\n",
    "#             transition_matrix,\n",
    "#             emission_matrix\n",
    "#         )\n",
    "        \n",
    "#         xi = np.zeros((n_states, n_states, n_timesteps-1))\n",
    "        \n",
    "#         for t in range(n_timesteps-1):\n",
    "#             xi_denominator = (\n",
    "#                 forward_prob[t, :].T\n",
    "#                 @ transition_matrix\n",
    "#                 * emission_matrix[:, observations[t+1]].T\n",
    "#                 @ backward_prob[t+1, :]\n",
    "#             )\n",
    "#             for i in range(n_states):\n",
    "#                 xi_numerator = (\n",
    "#                     forward_prob[t, i]\n",
    "#                     * transition_matrix[i, :]\n",
    "#                     * emission_matrix[:, observations[t+1]].T\n",
    "#                     * backward_prob[t+1, :].T\n",
    "#                 )\n",
    "#                 xi[i, :, t] = xi_numerator / xi_denominator\n",
    "                \n",
    "#         gamma = np.sum(xi, axis=1)\n",
    "        \n",
    "#         # M-step\n",
    "#         transition_matrix = np.sum(xi, axis=2) / np.sum(gamma, axis=1).reshape((-1, 1))\n",
    "    \n",
    "#         gamma = np.hstack((gamma, np.sum(xi[:, :, n_timesteps-2], axis=0).reshape((-1, 1))))\n",
    "#         n_symbols = emission_matrix.shape[1]\n",
    "#         denominator = np.sum(gamma, axis=1)\n",
    "        \n",
    "#         for i in range(n_symbols):\n",
    "#             emission_matrix[:, i] = np.sum(gamma[:, observations == i], axis=1)\n",
    " \n",
    "#         emission_matrix = np.divide(emission_matrix, denominator.reshape((-1, 1)))\n",
    " \n",
    "#     return (transition_matrix, emission_matrix)\n"
   ]
  },
  {
   "cell_type": "code",
   "execution_count": 21,
   "metadata": {},
   "outputs": [],
   "source": [
    "# A_est, B_est = baum_welch(x, A_transition, B_emission, pi)\n",
    "# print(f\"A:\\n{A_est}\")\n",
    "# print(f\"B:\\n{B_est}\")"
   ]
  }
 ],
 "metadata": {
  "kernelspec": {
   "display_name": "ml",
   "language": "python",
   "name": "ml"
  },
  "language_info": {
   "codemirror_mode": {
    "name": "ipython",
    "version": 3
   },
   "file_extension": ".py",
   "mimetype": "text/x-python",
   "name": "python",
   "nbconvert_exporter": "python",
   "pygments_lexer": "ipython3",
   "version": "3.12.2"
  }
 },
 "nbformat": 4,
 "nbformat_minor": 2
}
