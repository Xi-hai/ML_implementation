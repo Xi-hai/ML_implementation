{
 "cells": [
  {
   "cell_type": "code",
   "execution_count": 1,
   "metadata": {},
   "outputs": [],
   "source": [
    "import numpy as np\n",
    "import numpy.linalg as LA\n",
    "from scipy.stats import multivariate_normal\n",
    "import matplotlib.pyplot as plt"
   ]
  },
  {
   "cell_type": "markdown",
   "metadata": {},
   "source": [
    "生成モデルのパラメータ設定"
   ]
  },
  {
   "cell_type": "code",
   "execution_count": 2,
   "metadata": {},
   "outputs": [],
   "source": [
    "D = 2 # 観測変数の次元\n",
    "M = 1 # 潜在変数の次元\n",
    "sample_size = 300\n",
    "I_M = np.identity(M)\n",
    "I_D = np.identity(D)\n",
    "\n",
    "W_gen = np.array([\n",
    "    [5.],\n",
    "    [2.]\n",
    "]).reshape(D, M)\n",
    "mu_gen = np.array([\n",
    "    [3.],\n",
    "    [4.]\n",
    "]).reshape(D, 1)\n",
    "sigma_gen = 2."
   ]
  },
  {
   "cell_type": "markdown",
   "metadata": {},
   "source": [
    "サンプルデータ生成，プロット"
   ]
  },
  {
   "cell_type": "code",
   "execution_count": 3,
   "metadata": {},
   "outputs": [
    {
     "data": {
      "image/png": "[encoded data removed]",
      "text/plain": [
       "<Figure size 640x480 with 1 Axes>"
      ]
     },
     "metadata": {},
     "output_type": "display_data"
    }
   ],
   "source": [
    "z = multivariate_normal(np.zeros((M, 1)), I_M).rvs(size=sample_size).reshape(-1, M)\n",
    "x = []\n",
    "for n in range(z.shape[0]):\n",
    "    x_mean = (W_gen @ z[n,:].reshape(M, -1) + mu_gen).flatten()\n",
    "    x.append(multivariate_normal(x_mean, sigma_gen*I_D).rvs())\n",
    "x = np.array(x)\n",
    "plt.scatter(x[:,0], x[:,1])\n",
    "plt.show()"
   ]
  },
  {
   "cell_type": "markdown",
   "metadata": {},
   "source": [
    "EMアルゴリズム"
   ]
  },
  {
   "cell_type": "code",
   "execution_count": 4,
   "metadata": {},
   "outputs": [],
   "source": [
    "# EMのパラメータ設定\n",
    "T = 100\n",
    "EPSILON = 0.01"
   ]
  },
  {
   "cell_type": "code",
   "execution_count": 5,
   "metadata": {},
   "outputs": [],
   "source": [
    "def E_step(x, W, mu, sigma):\n",
    "    mat_M = W.T @ W + sigma*I_M\n",
    "    M_inv = LA.inv(mat_M)\n",
    "    z_expect = []\n",
    "    z_cov_expect = []\n",
    "    for n in range(x.shape[0]):\n",
    "        Ez = M_inv @ (W.T @ (x[n,:] - mu).reshape(D, -1)).flatten()\n",
    "        z_expect.append(Ez)\n",
    "        z_cov_expect.append(sigma * M_inv + Ez @ Ez.T)\n",
    "    return np.array(z_expect), np.array(z_cov_expect)"
   ]
  },
  {
   "cell_type": "code",
   "execution_count": 6,
   "metadata": {},
   "outputs": [],
   "source": [
    "def M_step(x, mu, z_expect, z_cov_expect):\n",
    "    W1 = np.array([[0. for _ in range(M)] for _ in range(D)])\n",
    "    W2 = z_cov_expect.sum(axis=0)\n",
    "    for n in range(x.shape[0]):\n",
    "        W1 += (x[n,:] - mu).reshape(D, -1) @ z_expect[n,:].reshape(-1, M)\n",
    "    W_new = W1 @ LA.inv(W2)\n",
    "\n",
    "    sigma_new = 0.\n",
    "    for n in range(x.shape[0]):\n",
    "        xn = (x[n,:] - mu).reshape(D, -1)\n",
    "        sigma_new += xn.T @ xn\n",
    "        sigma_new -= 2 * z_expect[n,:].reshape(-1, M) @ W_new.T @ xn\n",
    "        sigma_new += np.trace(z_cov_expect[n,:,:] @ W_new.T @ W_new)\n",
    "    sigma_new /= (x.shape[0]*D)\n",
    "\n",
    "    return W_new, float(sigma_new)"
   ]
  },
  {
   "cell_type": "code",
   "execution_count": 7,
   "metadata": {},
   "outputs": [],
   "source": [
    "def EM(x):\n",
    "    mu_est = x.mean(axis=0)\n",
    "    W_est = np.array([1.]*(D*M)).reshape(D, M)\n",
    "    sigma_est = 1.\n",
    "\n",
    "    for t in range(T):\n",
    "        z_expect, z_cov_expect = E_step(x, W_est, mu_est, sigma_est)\n",
    "        W_new, sigma_new = M_step(x, mu_est, z_expect, z_cov_expect)\n",
    "\n",
    "        W_est = W_new\n",
    "        sigma_est = sigma_new\n",
    "\n",
    "    return mu_est, W_est, sigma_est"
   ]
  },
  {
   "cell_type": "code",
   "execution_count": 8,
   "metadata": {},
   "outputs": [
    {
     "name": "stderr",
     "output_type": "stream",
     "text": [
      "/var/folders/51/y1mms50s6t55s4g8dhd1mh3m0000gn/T/ipykernel_1992/3562239905.py:16: DeprecationWarning: Conversion of an array with ndim > 0 to a scalar is deprecated, and will error in future. Ensure you extract a single element from your array before performing this operation. (Deprecated NumPy 1.25.)\n",
      "  return W_new, float(sigma_new)\n"
     ]
    },
    {
     "name": "stdout",
     "output_type": "stream",
     "text": [
      "estimated mean:\n",
      "[[2.92802132]\n",
      " [4.0919364 ]]\n",
      "estimated W:\n",
      "[[5.20394318]\n",
      " [2.154107  ]]\n",
      "estimated sigma: 2.0258783423431796\n"
     ]
    }
   ],
   "source": [
    "mu_est, W_est, sigma_est = EM(x)\n",
    "print(f\"estimated mean:\\n{mu_est.reshape(D, -1)}\")\n",
    "print(f\"estimated W:\\n{W_est}\")\n",
    "print(f\"estimated sigma: {sigma_est}\")"
   ]
  }
 ],
 "metadata": {
  "kernelspec": {
   "display_name": "ml",
   "language": "python",
   "name": "ml"
  },
  "language_info": {
   "codemirror_mode": {
    "name": "ipython",
    "version": 3
   },
   "file_extension": ".py",
   "mimetype": "text/x-python",
   "name": "python",
   "nbconvert_exporter": "python",
   "pygments_lexer": "ipython3",
   "version": "3.12.2"
  }
 },
 "nbformat": 4,
 "nbformat_minor": 2
}
